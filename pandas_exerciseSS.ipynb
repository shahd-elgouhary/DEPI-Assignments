{
 "cells": [
  {
   "cell_type": "code",
   "execution_count": 27,
   "metadata": {},
   "outputs": [],
   "source": [
    "import pandas as pd\n",
    "df = pd.read_csv('Titanic.csv')"
   ]
  },
  {
   "cell_type": "markdown",
   "metadata": {},
   "source": [
    "### Q_1: Create a Pandas Series named survival_series using the Survived column of the DataFrame"
   ]
  },
  {
   "cell_type": "code",
   "execution_count": 10,
   "metadata": {},
   "outputs": [
    {
     "name": "stdout",
     "output_type": "stream",
     "text": [
      "0    0\n",
      "1    1\n",
      "2    0\n",
      "3    0\n",
      "4    1\n",
      "Name: Survived, dtype: int64\n"
     ]
    }
   ],
   "source": [
    "survival_series = df['Survived']\n",
    "print(survival_series.head())"
   ]
  },
  {
   "cell_type": "markdown",
   "metadata": {},
   "source": [
    "### Q_2: Display the last 3 rows of the DataFrame and check the data type of the Age column"
   ]
  },
  {
   "cell_type": "code",
   "execution_count": 14,
   "metadata": {},
   "outputs": [
    {
     "name": "stdout",
     "output_type": "stream",
     "text": [
      "     PassengerId  Survived  Pclass                          Name   Sex   Age  \\\n",
      "415         1307         0       3  Saether, Mr. Simon Sivertsen  male  38.5   \n",
      "416         1308         0       3           Ware, Mr. Frederick  male   NaN   \n",
      "417         1309         0       3      Peter, Master. Michael J  male   NaN   \n",
      "\n",
      "     SibSp  Parch              Ticket     Fare Cabin Embarked  \n",
      "415      0      0  SOTON/O.Q. 3101262   7.2500   NaN        S  \n",
      "416      0      0              359309   8.0500   NaN        S  \n",
      "417      1      1                2668  22.3583   NaN        C  \n",
      "\n",
      "Data type of Age column: float64\n"
     ]
    }
   ],
   "source": [
    "print(df.tail(3))\n",
    "print(\"\\nData type of Age column:\", df['Age'].dtype)"
   ]
  },
  {
   "cell_type": "markdown",
   "metadata": {},
   "source": [
    "### Q_3 :  Select the Name and Age columns, then filter rows where the passenger’s age is greater than 30 "
   ]
  },
  {
   "cell_type": "code",
   "execution_count": 16,
   "metadata": {},
   "outputs": [
    {
     "name": "stdout",
     "output_type": "stream",
     "text": [
      "                                                Name   Age\n",
      "0                                   Kelly, Mr. James  34.5\n",
      "1                   Wilkes, Mrs. James (Ellen Needs)  47.0\n",
      "2                          Myles, Mr. Thomas Francis  62.0\n",
      "11                        Jones, Mr. Charles Cresson  46.0\n",
      "13                              Howard, Mr. Benjamin  63.0\n",
      "..                                               ...   ...\n",
      "404                     Frauenthal, Mr. Isaac Gerald  43.0\n",
      "407                       Widener, Mr. George Dunton  50.0\n",
      "411  Minahan, Mrs. William Edward (Lillian E Thorpe)  37.0\n",
      "414                     Oliva y Ocana, Dona. Fermina  39.0\n",
      "415                     Saether, Mr. Simon Sivertsen  38.5\n",
      "\n",
      "[132 rows x 2 columns]\n"
     ]
    }
   ],
   "source": [
    "filtered_df = df[['Name', 'Age']][df['Age'] > 30]\n",
    "print(filtered_df)"
   ]
  },
  {
   "cell_type": "markdown",
   "metadata": {},
   "source": [
    "### Q_4: Add a new column FamilySize to the DataFrame, calculated as SibSp + Parch + 1 (including the passenger themselves)"
   ]
  },
  {
   "cell_type": "code",
   "execution_count": 18,
   "metadata": {},
   "outputs": [
    {
     "name": "stdout",
     "output_type": "stream",
     "text": [
      "   SibSp  Parch  FamilySize\n",
      "0      0      0           1\n",
      "1      1      0           2\n",
      "2      0      0           1\n",
      "3      0      0           1\n",
      "4      1      1           3\n"
     ]
    }
   ],
   "source": [
    "df['FamilySize'] = df['SibSp'] + df['Parch'] + 1\n",
    "print(df[['SibSp', 'Parch', 'FamilySize']].head())"
   ]
  },
  {
   "cell_type": "markdown",
   "metadata": {},
   "source": [
    "#### Q_5: Fill missing values in the Age column with the mean age then Group the data by Pclass and calculate the average age for each class"
   ]
  },
  {
   "cell_type": "code",
   "execution_count": 23,
   "metadata": {},
   "outputs": [
    {
     "name": "stdout",
     "output_type": "stream",
     "text": [
      "Pclass\n",
      "1    40.022928\n",
      "2    28.857881\n",
      "3    26.090397\n",
      "Name: Age, dtype: float64\n"
     ]
    }
   ],
   "source": [
    "mean_age = df['Age'].mean()\n",
    "df['Age'] = df['Age'].fillna(mean_age)\n",
    "average_age_by_class = df.groupby('Pclass')['Age'].mean()\n",
    "\n",
    "print(average_age_by_class)"
   ]
  },
  {
   "cell_type": "markdown",
   "metadata": {},
   "source": [
    "#### Q_Bonus: Calculate the survival rate (mean of Survived) for each gender (Sex)"
   ]
  },
  {
   "cell_type": "code",
   "execution_count": 29,
   "metadata": {},
   "outputs": [
    {
     "name": "stdout",
     "output_type": "stream",
     "text": [
      "Sex\n",
      "female    1.0\n",
      "male      0.0\n",
      "Name: Survived, dtype: float64\n"
     ]
    }
   ],
   "source": [
    "survival_rate_by_gender = df.groupby('Sex')['Survived'].mean()\n",
    "print(survival_rate_by_gender)"
   ]
  },
  {
   "cell_type": "code",
   "execution_count": null,
   "metadata": {},
   "outputs": [],
   "source": []
  }
 ],
 "metadata": {
  "kernelspec": {
   "display_name": "Python [conda env:base] *",
   "language": "python",
   "name": "conda-base-py"
  },
  "language_info": {
   "codemirror_mode": {
    "name": "ipython",
    "version": 3
   },
   "file_extension": ".py",
   "mimetype": "text/x-python",
   "name": "python",
   "nbconvert_exporter": "python",
   "pygments_lexer": "ipython3",
   "version": "3.12.7"
  }
 },
 "nbformat": 4,
 "nbformat_minor": 4
}
