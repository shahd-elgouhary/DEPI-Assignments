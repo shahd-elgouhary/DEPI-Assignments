{
 "cells": [
  {
   "cell_type": "markdown",
   "id": "bdeb61a2",
   "metadata": {},
   "source": [
    "## Question: Implementing Abstraction in Shapes\n",
    "A construction company needs a system to calculate the area and perimeter of different shapes they use in their projects. They require a flexible system that allows easy addition of new shapes in the future while enforcing a standard structure for all shapes.\n",
    "\n",
    "Your task is to implement an abstract class called `Shape`, which defines two abstract methods:\n",
    "1. `area()`: To calculate the area of a shape.\n",
    "2. `perimeter()`: To calculate the perimeter of a shape.\n",
    "\n",
    "You must then create two concrete classes—`Circle` and `Rectangle`—that inherit from `Shape` and provide their own implementations for these methods.\n",
    "\n",
    "\n",
    "**Coding Requirements:**\n",
    "1. Define an **abstract class** `Shape` using the `ABC` module.\n",
    "   - It should have two abstract methods: `area()` and `perimeter()`.\n",
    "2. Implement a `Circle` class that inherits from `Shape`:\n",
    "   - It should take `radius` as an argument.\n",
    "   - Implement `area()` using the formula: **π × radius²**\n",
    "   - Implement `perimeter()` using the formula: **2 × π × radius**\n",
    "3. Implement a `Rectangle` class that inherits from `Shape`:\n",
    "   - It should take `length` and `width` as arguments.\n",
    "   - Implement `area()` using the formula: **length × width**\n",
    "   - Implement `perimeter()` using the formula: **2 × (length + width)**\n",
    "4. Write a function `print_shape_details(shape)` that takes a `Shape` object and prints:\n",
    "   - The **area** of the shape.\n",
    "   - The **perimeter** of the shape.\n",
    "5. Create instances of `Circle` and `Rectangle`, then pass them to `print_shape_details()` to display their calculations.\n",
    "\n",
    "\n",
    "**Expected Output (Example)**\n",
    "```\n",
    "Abstract Classes and Interfaces:\n",
    "Circle Details:\n",
    "Area: 78.5 square units\n",
    "Perimeter: 31.400000000000002 units\n",
    "\n",
    "Rectangle Details:\n",
    "Area: 24 square units\n",
    "Perimeter: 20 units\n",
    "```\n",
    "\n",
    "**Bonus Challenge:**\n",
    "- Extend the system by adding another shape, such as a **Triangle** or **Square**.\n",
    "- Modify `print_shape_details()` to display the shape type dynamically.\n",
    "\n"
   ]
  },
  {
   "cell_type": "code",
   "execution_count": 2,
   "id": "2d875e70",
   "metadata": {},
   "outputs": [],
   "source": [
    "from abc import ABC, abstractmethod\n",
    "import math\n",
    "\n",
    "class Shape(ABC):\n",
    "    @abstractmethod\n",
    "    def area(self):\n",
    "        pass\n",
    "\n",
    "    @abstractmethod\n",
    "    def perimeter(self):\n",
    "        pass\n",
    "\n",
    "class Circle(Shape):\n",
    "    def __init__(self, radius):\n",
    "        self.radius = radius\n",
    "\n",
    "    def area(self):\n",
    "        return math.pi * self.radius ** 2\n",
    "\n",
    "    def perimeter(self):\n",
    "        return 2 * math.pi * self.radius\n",
    "\n",
    "class Rectangle(Shape):\n",
    "    def __init__(self, length, width):\n",
    "        self.length = length\n",
    "        self.width = width\n",
    "\n",
    "    def area(self):\n",
    "        return self.length * self.width\n",
    "\n",
    "    def perimeter(self):\n",
    "        return 2 * (self.length + self.width)\n",
    "\n",
    "class Square(Shape):\n",
    "    def __init__(self, side):\n",
    "        self.side = side\n",
    "\n",
    "    def area(self):\n",
    "        return self.side ** 2\n",
    "\n",
    "    def perimeter(self):\n",
    "        return 4 * self.side"
   ]
  },
  {
   "cell_type": "code",
   "execution_count": 4,
   "id": "96351adf-8226-40cf-8a21-d664e91c1122",
   "metadata": {},
   "outputs": [],
   "source": [
    "def print_shape_details(shape):\n",
    "    print(f\"{shape.__class__.__name__} Details:\")\n",
    "    print(f\"Area: {shape.area()} square units\")\n",
    "    print(f\"Perimeter: {shape.perimeter()} units\\n\")"
   ]
  },
  {
   "cell_type": "code",
   "execution_count": 6,
   "id": "585dca2a-aafe-4d8f-b60d-4e71e11da3f5",
   "metadata": {},
   "outputs": [
    {
     "name": "stdout",
     "output_type": "stream",
     "text": [
      "Abstract Classes and Interfaces:\n",
      "\n",
      "Circle Details:\n",
      "Area: 78.53981633974483 square units\n",
      "Perimeter: 31.41592653589793 units\n",
      "\n",
      "Rectangle Details:\n",
      "Area: 24 square units\n",
      "Perimeter: 20 units\n",
      "\n",
      "Square Details:\n",
      "Area: 9 square units\n",
      "Perimeter: 12 units\n",
      "\n"
     ]
    }
   ],
   "source": [
    "circle = Circle(5)\n",
    "rectangle = Rectangle(6, 4)\n",
    "square = Square(3)\n",
    "\n",
    "print(\"Abstract Classes and Interfaces:\\n\")\n",
    "print_shape_details(circle)\n",
    "print_shape_details(rectangle)\n",
    "print_shape_details(square)"
   ]
  },
  {
   "cell_type": "code",
   "execution_count": null,
   "id": "efc9affd-4fea-4a1e-b992-0b096d857ce8",
   "metadata": {},
   "outputs": [],
   "source": []
  }
 ],
 "metadata": {
  "kernelspec": {
   "display_name": "Python [conda env:base] *",
   "language": "python",
   "name": "conda-base-py"
  },
  "language_info": {
   "codemirror_mode": {
    "name": "ipython",
    "version": 3
   },
   "file_extension": ".py",
   "mimetype": "text/x-python",
   "name": "python",
   "nbconvert_exporter": "python",
   "pygments_lexer": "ipython3",
   "version": "3.12.7"
  }
 },
 "nbformat": 4,
 "nbformat_minor": 5
}
