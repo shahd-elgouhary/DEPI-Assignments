{
 "cells": [
  {
   "cell_type": "markdown",
   "metadata": {},
   "source": [
    "### Q_1: create 2D-array that contain even numbers between 0-18...??"
   ]
  },
  {
   "cell_type": "code",
   "execution_count": 2,
   "metadata": {},
   "outputs": [
    {
     "name": "stdout",
     "output_type": "stream",
     "text": [
      "[[ 0  2  4  6  8]\n",
      " [10 12 14 16 18]]\n"
     ]
    }
   ],
   "source": [
    "import numpy as np\n",
    "even_numbers = np.arange(0, 20, 2)\n",
    "array_2d = even_numbers.reshape(2, 5)\n",
    "print(array_2d)"
   ]
  },
  {
   "cell_type": "markdown",
   "metadata": {},
   "source": [
    "### Q_2: Replace the negative values with 0 in random array that has value in range (-6,6)"
   ]
  },
  {
   "cell_type": "code",
   "execution_count": 4,
   "metadata": {},
   "outputs": [
    {
     "name": "stdout",
     "output_type": "stream",
     "text": [
      "[[-2.3914686   3.07260277 -0.12559255 -0.86226387]\n",
      " [ 1.51235385  5.8336318  -4.6706493  -2.95333916]\n",
      " [ 1.63351607  4.57237558  4.69020819 -3.86903331]]\n",
      "[[0.         3.07260277 0.         0.        ]\n",
      " [1.51235385 5.8336318  0.         0.        ]\n",
      " [1.63351607 4.57237558 4.69020819 0.        ]]\n"
     ]
    }
   ],
   "source": [
    "random_array = np.random.uniform(-6, 6, size=(3, 4))\n",
    "\n",
    "print(random_array)\n",
    "\n",
    "random_array[random_array < 0] = 0\n",
    "\n",
    "print(random_array)"
   ]
  },
  {
   "cell_type": "markdown",
   "metadata": {},
   "source": [
    "### Q_3 :  How to compute ((A+B)*(-A/2)) ?  where A,B random array"
   ]
  },
  {
   "cell_type": "code",
   "execution_count": 6,
   "metadata": {},
   "outputs": [
    {
     "name": "stdout",
     "output_type": "stream",
     "text": [
      "A:\n",
      "[[6 3 4]\n",
      " [4 7 2]\n",
      " [7 4 5]]\n",
      "\n",
      "B:\n",
      "[[5 7 2]\n",
      " [2 7 4]\n",
      " [8 3 9]]\n",
      "\n",
      "Result of ((A + B) * (-A / 2)):\n",
      "[[-33.  -15.  -12. ]\n",
      " [-12.  -49.   -6. ]\n",
      " [-52.5 -14.  -35. ]]\n"
     ]
    }
   ],
   "source": [
    "A = np.random.randint(1, 10, size=(3, 3))  \n",
    "B = np.random.randint(1, 10, size=(3, 3))\n",
    "\n",
    "result = (A + B) * (-A / 2)\n",
    "\n",
    "print(\"A:\")\n",
    "print(A)\n",
    "\n",
    "print(\"\\nB:\")\n",
    "print(B)\n",
    "\n",
    "print(\"\\nResult of ((A + B) * (-A / 2)):\")\n",
    "print(result)"
   ]
  },
  {
   "cell_type": "markdown",
   "metadata": {},
   "source": [
    "### Q_4: How to concatenate two arrays horizontally..?"
   ]
  },
  {
   "cell_type": "code",
   "execution_count": 10,
   "metadata": {},
   "outputs": [
    {
     "name": "stdout",
     "output_type": "stream",
     "text": [
      "Horizontal Concatenation:\n",
      "[[ 1  2  3  7  8  9]\n",
      " [ 4  5  6 10 11 12]]\n"
     ]
    }
   ],
   "source": [
    "A = np.array([[1, 2, 3],\n",
    "              [4, 5, 6]])\n",
    "\n",
    "B = np.array([[7, 8, 9],\n",
    "              [10, 11, 12]])\n",
    "\n",
    "horizontal_concat = np.hstack((A, B))\n",
    "\n",
    "print(\"Horizontal Concatenation:\")\n",
    "print(horizontal_concat)"
   ]
  },
  {
   "cell_type": "markdown",
   "metadata": {},
   "source": [
    "#### Q_5: Create a array vector of size 3x3 and sort values in Its columns"
   ]
  },
  {
   "cell_type": "code",
   "execution_count": null,
   "metadata": {},
   "outputs": [],
   "source": []
  }
 ],
 "metadata": {
  "kernelspec": {
   "display_name": "Python [conda env:base] *",
   "language": "python",
   "name": "conda-base-py"
  },
  "language_info": {
   "codemirror_mode": {
    "name": "ipython",
    "version": 3
   },
   "file_extension": ".py",
   "mimetype": "text/x-python",
   "name": "python",
   "nbconvert_exporter": "python",
   "pygments_lexer": "ipython3",
   "version": "3.12.7"
  }
 },
 "nbformat": 4,
 "nbformat_minor": 4
}
