{
 "cells": [
  {
   "cell_type": "markdown",
   "metadata": {
    "id": "X3B3JVWQLdzO"
   },
   "source": [
    "## Question: Build a Basic Calculator Class\n",
    "\n",
    "In a small town, Alex, a budding programmer, wanted to build something useful to help with everyday calculations. One day, they decided to create a **Smart Calculator**—a simple yet powerful tool that could perform basic arithmetic operations effortlessly.\n",
    "\n",
    "Alex's goal was to design a **Python class** that could handle **addition, subtraction, multiplication, and division**. However, they faced a challenge: what if someone tries to divide by zero? The calculator needed to be smart enough to **prevent errors** and give a meaningful message instead of crashing.\n",
    "\n",
    "After hours of coding, Alex successfully created the **Calculator** class, which could:\n",
    "- **Add** two numbers\n",
    "- **Subtract** one number from another\n",
    "- **Multiply** two numbers\n",
    "- **Divide** two numbers (handling division by zero gracefully)\n",
    "\n",
    "Now, your task is to **help Alex complete this project** by implementing the `Calculator` class with the following requirements:\n",
    "\n",
    "##### Coding Requirements:\n",
    "1️⃣ Create a class named `Calculator`.\n",
    "\n",
    "2️⃣ Implement four methods:\n",
    "   - `add(self, a, b)`: Returns the sum of `a` and `b`.\n",
    "   - `subtract(self, a, b)`: Returns the difference between `a` and `b`.\n",
    "   - `multiply(self, a, b)`: Returns the product of `a` and `b`.\n",
    "   - `divide(self, a, b)`: Returns the quotient of `a` divided by `b`. If `b` is zero, return **\"Error: Division by zero.\"** instead of throwing an error.\n",
    "\n",
    "3️⃣ Create an instance of the `Calculator` class and test each method with the following inputs:\n",
    "   - `calc.add(10, 5)` → **Expected output:** `15`\n",
    "   - `calc.subtract(10, 5)` → **Expected output:** `5`\n",
    "   - `calc.multiply(10, 5)` → **Expected output:** `50`\n",
    "   - `calc.divide(10, 2)` → **Expected output:** `5.0`\n",
    "   - `calc.divide(10, 0)` → **Expected output:** `\"Error: Division by zero.\"`\n"
   ]
  },
  {
   "cell_type": "code",
   "execution_count": 2,
   "metadata": {},
   "outputs": [],
   "source": [
    "class Calculator:\n",
    "    def add(self, a, b):\n",
    "        return a + b\n",
    "\n",
    "    def subtract(self, a, b):\n",
    "        return a - b\n",
    "\n",
    "    def multiply(self, a, b):\n",
    "        return a * b\n",
    "\n",
    "    def divide(self, a, b):\n",
    "        if b == 0:\n",
    "            return \"Error: Division by zero.\"\n",
    "        return a / b"
   ]
  },
  {
   "cell_type": "code",
   "execution_count": 4,
   "metadata": {},
   "outputs": [],
   "source": [
    "calc = Calculator()"
   ]
  },
  {
   "cell_type": "code",
   "execution_count": 6,
   "metadata": {},
   "outputs": [
    {
     "name": "stdout",
     "output_type": "stream",
     "text": [
      "15\n",
      "5\n",
      "50\n",
      "5.0\n",
      "Error: Division by zero.\n"
     ]
    }
   ],
   "source": [
    "print(calc.add(10, 5))\n",
    "print(calc.subtract(10, 5))\n",
    "print(calc.multiply(10, 5))\n",
    "print(calc.divide(10, 2))\n",
    "print(calc.divide(10, 0))"
   ]
  },
  {
   "cell_type": "markdown",
   "metadata": {
    "id": "A9MeZoOUPBtX"
   },
   "source": [
    "## Modeling a Simple Library System\n",
    "\n",
    "Emma always dreamed of having a small community library where people could **borrow and share books** freely. She envisioned a simple system where books could be **added to a collection** and **viewed easily** whenever someone wanted to check what was available.\n",
    "\n",
    "Determined to bring her idea to life, Emma decided to build a **basic library management system** using Python. She broke the problem down into two main parts:\n",
    "\n",
    "1️⃣ **Books** - Each book should have a **title** and an **author**.\n",
    "\n",
    "2️⃣ **Library** - A collection of books where new books could be **added** and **listed** for readers to see.\n",
    "\n",
    "With this in mind, Emma designed the system using **two classes**:\n",
    "\n",
    "###### Coding Requirements:\n",
    "\n",
    "✅ **Class `Book`**\n",
    "   - Has an `__init__` method that takes `title` and `author` as arguments.\n",
    "   - Has a `display()` method that prints the book's details in the format:\n",
    "     `\"Title: <title>, Author: <author>\"`.\n",
    "\n",
    "✅ **Class `Library`**\n",
    "   - Has an `__init__` method that initializes an **empty list** to store books.\n",
    "   - Has an `add_book(book)` method to **add a book** to the collection and print a confirmation message.\n",
    "   - Has a `list_books()` method that prints `\"Library books:\"` followed by the details of all stored books using the `display()` method of the `Book` class.\n",
    "\n",
    "✅ **Example Usage:**\n",
    "- Create two books: `\"1984\"` by **George Orwell** and `\"To Kill a Mockingbird\"` by **Harper Lee**.\n",
    "- Create a library and **add the books** to it.\n",
    "- Display the list of books in the library.\n",
    "\n",
    "#### Expected Output:\n",
    "```\n",
    "Added book: 1984\n",
    "Added book: To Kill a Mockingbird\n",
    "Library books:\n",
    "Title: 1984, Author: George Orwell\n",
    "Title: To Kill a Mockingbird, Author: Harper Lee\n",
    "```\n"
   ]
  },
  {
   "cell_type": "code",
   "execution_count": 10,
   "metadata": {},
   "outputs": [],
   "source": [
    "class Book:\n",
    "    def __init__(self, title, author):\n",
    "        self.title = title\n",
    "        self.author = author\n",
    "\n",
    "    def display(self):\n",
    "        print(f\"Title: {self.title}, Author: {self.author}\")"
   ]
  },
  {
   "cell_type": "code",
   "execution_count": 12,
   "metadata": {},
   "outputs": [],
   "source": [
    "class Library:\n",
    "    def __init__(self):\n",
    "        self.books = []\n",
    "\n",
    "    def add_book(self, book):\n",
    "        self.books.append(book)\n",
    "        print(f\"Added book: {book.title}\")\n",
    "\n",
    "    def list_books(self):\n",
    "        print(\"Library books:\")\n",
    "        for book in self.books:\n",
    "            book.display()"
   ]
  },
  {
   "cell_type": "code",
   "execution_count": 14,
   "metadata": {},
   "outputs": [
    {
     "name": "stdout",
     "output_type": "stream",
     "text": [
      "Added book: 1984\n",
      "Added book: To Kill a Mockingbird\n",
      "Library books:\n",
      "Title: 1984, Author: George Orwell\n",
      "Title: To Kill a Mockingbird, Author: Harper Lee\n"
     ]
    }
   ],
   "source": [
    "book1 = Book(\"1984\", \"George Orwell\")\n",
    "book2 = Book(\"To Kill a Mockingbird\", \"Harper Lee\")\n",
    "\n",
    "library = Library()\n",
    "library.add_book(book1)\n",
    "library.add_book(book2)\n",
    "library.list_books()"
   ]
  },
  {
   "cell_type": "markdown",
   "metadata": {},
   "source": [
    "## Question: Implementing Abstraction in Shapes\n",
    "A construction company needs a system to calculate the area and perimeter of different shapes they use in their projects. They require a flexible system that allows easy addition of new shapes in the future while enforcing a standard structure for all shapes.\n",
    "\n",
    "Your task is to implement an abstract class called `Shape`, which defines two abstract methods:\n",
    "1. `area()`: To calculate the area of a shape.\n",
    "2. `perimeter()`: To calculate the perimeter of a shape.\n",
    "\n",
    "You must then create two concrete classes—`Circle` and `Rectangle`—that inherit from `Shape` and provide their own implementations for these methods.\n",
    "\n",
    "\n",
    "**Coding Requirements:**\n",
    "1. Define an **abstract class** `Shape` using the `ABC` module.\n",
    "   - It should have two abstract methods: `area()` and `perimeter()`.\n",
    "2. Implement a `Circle` class that inherits from `Shape`:\n",
    "   - It should take `radius` as an argument.\n",
    "   - Implement `area()` using the formula: **π × radius²**\n",
    "   - Implement `perimeter()` using the formula: **2 × π × radius**\n",
    "3. Implement a `Rectangle` class that inherits from `Shape`:\n",
    "   - It should take `length` and `width` as arguments.\n",
    "   - Implement `area()` using the formula: **length × width**\n",
    "   - Implement `perimeter()` using the formula: **2 × (length + width)**\n",
    "4. Write a function `print_shape_details(shape)` that takes a `Shape` object and prints:\n",
    "   - The **area** of the shape.\n",
    "   - The **perimeter** of the shape.\n",
    "5. Create instances of `Circle` and `Rectangle`, then pass them to `print_shape_details()` to display their calculations.\n",
    "\n",
    "\n",
    "**Expected Output (Example)**\n",
    "```\n",
    "Abstract Classes and Interfaces:\n",
    "Circle Details:\n",
    "Area: 78.5 square units\n",
    "Perimeter: 31.400000000000002 units\n",
    "\n",
    "Rectangle Details:\n",
    "Area: 24 square units\n",
    "Perimeter: 20 units\n",
    "```\n",
    "\n",
    "**Bonus Challenge:**\n",
    "- Extend the system by adding another shape, such as a **Triangle** or **Square**.\n",
    "- Modify `print_shape_details()` to display the shape type dynamically.\n"
   ]
  },
  {
   "cell_type": "code",
   "execution_count": 16,
   "metadata": {},
   "outputs": [],
   "source": [
    "from abc import ABC, abstractmethod\n",
    "import math\n",
    "\n",
    "class Shape(ABC):\n",
    "    @abstractmethod\n",
    "    def area(self):\n",
    "        pass\n",
    "\n",
    "    @abstractmethod\n",
    "    def perimeter(self):\n",
    "        pass\n",
    "\n",
    "class Circle(Shape):\n",
    "    def __init__(self, radius):\n",
    "        self.radius = radius\n",
    "\n",
    "    def area(self):\n",
    "        return math.pi * self.radius ** 2\n",
    "\n",
    "    def perimeter(self):\n",
    "        return 2 * math.pi * self.radius\n",
    "\n",
    "class Rectangle(Shape):\n",
    "    def __init__(self, length, width):\n",
    "        self.length = length\n",
    "        self.width = width\n",
    "\n",
    "    def area(self):\n",
    "        return self.length * self.width\n",
    "\n",
    "    def perimeter(self):\n",
    "        return 2 * (self.length + self.width)\n",
    "\n",
    "class Square(Shape):\n",
    "    def __init__(self, side):\n",
    "        self.side = side\n",
    "\n",
    "    def area(self):\n",
    "        return self.side ** 2\n",
    "\n",
    "    def perimeter(self):\n",
    "        return 4 * self.side"
   ]
  },
  {
   "cell_type": "code",
   "execution_count": 18,
   "metadata": {},
   "outputs": [],
   "source": [
    "def print_shape_details(shape):\n",
    "    print(f\"{shape.__class__.__name__} Details:\")\n",
    "    print(f\"Area: {shape.area()} square units\")\n",
    "    print(f\"Perimeter: {shape.perimeter()} units\\n\")"
   ]
  },
  {
   "cell_type": "code",
   "execution_count": 20,
   "metadata": {},
   "outputs": [
    {
     "name": "stdout",
     "output_type": "stream",
     "text": [
      "Abstract Classes and Interfaces:\n",
      "\n",
      "Circle Details:\n",
      "Area: 78.53981633974483 square units\n",
      "Perimeter: 31.41592653589793 units\n",
      "\n",
      "Rectangle Details:\n",
      "Area: 24 square units\n",
      "Perimeter: 20 units\n",
      "\n",
      "Square Details:\n",
      "Area: 9 square units\n",
      "Perimeter: 12 units\n",
      "\n"
     ]
    }
   ],
   "source": [
    "circle = Circle(5)\n",
    "rectangle = Rectangle(6, 4)\n",
    "square = Square(3)\n",
    "\n",
    "print(\"Abstract Classes and Interfaces:\\n\")\n",
    "print_shape_details(circle)\n",
    "print_shape_details(rectangle)\n",
    "print_shape_details(square)"
   ]
  }
 ],
 "metadata": {
  "colab": {
   "collapsed_sections": [
    "X3B3JVWQLdzO"
   ],
   "provenance": []
  },
  "kernelspec": {
   "display_name": "Python [conda env:base] *",
   "language": "python",
   "name": "conda-base-py"
  },
  "language_info": {
   "codemirror_mode": {
    "name": "ipython",
    "version": 3
   },
   "file_extension": ".py",
   "mimetype": "text/x-python",
   "name": "python",
   "nbconvert_exporter": "python",
   "pygments_lexer": "ipython3",
   "version": "3.12.7"
  }
 },
 "nbformat": 4,
 "nbformat_minor": 4
}
